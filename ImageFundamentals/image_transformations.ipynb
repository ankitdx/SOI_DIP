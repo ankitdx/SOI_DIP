{
 "cells": [
  {
   "cell_type": "markdown",
   "metadata": {},
   "source": [
    "# Image Transformations\n",
    "\n",
    "Geometrical image transformations refer to operations that modify the spatial properties of an image. These transformations can change the size, position, shape, or orientation of objects within the image.\n",
    "\n",
    "Following are the steps to transform an image:\n",
    "\n",
    "1. Load Image.\n",
    "2. Create a coordinate grid of the image size.\n",
    "3. Create a transformation matrix.\n",
    "4. Transform the coordinates.\n",
    "5. Apply the transformation to the image."
   ]
  },
  {
   "cell_type": "markdown",
   "metadata": {},
   "source": [
    "### 1. Load and Show the input Image"
   ]
  },
  {
   "cell_type": "code",
   "execution_count": null,
   "metadata": {},
   "outputs": [],
   "source": [
    "import numpy as np\n",
    "import cv2\n",
    "from matplotlib import pyplot as plt\n",
    "\n",
    "# Load the image in grayscale\n",
    "image_path = 'multiple_blocks.png'\n",
    "img = cv2.imread(image_path, 0)\n",
    "img = cv2.resize(img, (64,64))\n",
    "\n",
    "# Create a figure placeholder\n",
    "fig = plt.figure(figsize=(12, 5))\n",
    "\n",
    "# show original image on a subplot\n",
    "plt.title(' image ')\n",
    "plt.set_cmap('gray')\n",
    "plt.imshow(img)"
   ]
  },
  {
   "cell_type": "markdown",
   "metadata": {},
   "source": [
    "### 2. Create Coordinate Grid of the mage size"
   ]
  },
  {
   "cell_type": "code",
   "execution_count": null,
   "metadata": {},
   "outputs": [],
   "source": [
    "# X array and Y array\n",
    "x_ = [i for i in range(img.shape[0])]\n",
    "y_ = [i for i in range(img.shape[1])]\n",
    "\n",
    "# Create bias array\n",
    "ones = np.array([1 for i in range(img.shape[0] * img.shape[1])])\n",
    "\n",
    "# Create Grid for coordinate transformation\n",
    "x,y = np.meshgrid(x_, y_)\n",
    "xy = np.vstack([x.flatten(), y.flatten(), ones]).transpose([1, 0])\n",
    "print(xy)"
   ]
  },
  {
   "cell_type": "markdown",
   "metadata": {},
   "source": [
    "### 3. Create Transformation Matrix"
   ]
  },
  {
   "cell_type": "code",
   "execution_count": null,
   "metadata": {},
   "outputs": [],
   "source": [
    "# Create a tranformation matrix to rotate the image with the given theta\n",
    "theta = 15 * np.pi / 180\n",
    "tx_rot = np.array([[np.cos(theta), np.sin(theta), 0],\n",
    "                  [-np.sin(theta), np.cos(theta), 0],\n",
    "                  [      0,           0,          1]])\n",
    "\n",
    "tx_scale = np.array([[0.5,  0,  0],\n",
    "                     [0,   0.5, 0],\n",
    "                     [0,    0,  1]])\n",
    "print(tx_rot)"
   ]
  },
  {
   "cell_type": "markdown",
   "metadata": {},
   "source": [
    "### 4. Transform the coordinates"
   ]
  },
  {
   "cell_type": "code",
   "execution_count": null,
   "metadata": {},
   "outputs": [],
   "source": [
    "tx_xy = xy.dot(tx_rot)"
   ]
  },
  {
   "cell_type": "markdown",
   "metadata": {},
   "source": [
    "### 5. Apply the transformation to the Image"
   ]
  },
  {
   "cell_type": "code",
   "execution_count": null,
   "metadata": {},
   "outputs": [],
   "source": [
    "tx_img = np.zeros((2 * img.shape[0], 2 * img.shape[1]), dtype=\"uint8\")\n",
    "for i in range(len(tx_xy)):\n",
    "    tx_x = int((tx_xy[i, 0])) + 25\n",
    "    tx_y = int((tx_xy[i, 1])) + 25\n",
    "\n",
    "    # tx_x = int(np.clip(tx_xy[i, 0], 0, img.shape[0] - 1))\n",
    "    # tx_y = int(np.clip(tx_xy[i, 1], 0, img.shape[1] - 1))\n",
    "\n",
    "    tx_img[tx_x, tx_y] = img[xy[i, 0], xy[i, 1]]\n",
    "\n",
    "# Create a figure placeholder\n",
    "fig = plt.figure(figsize=(12, 5))\n",
    "\n",
    "# show original image on a subplot\n",
    "plt.title(' image ')\n",
    "plt.set_cmap('gray')\n",
    "plt.imshow(tx_img)"
   ]
  },
  {
   "cell_type": "code",
   "execution_count": null,
   "metadata": {},
   "outputs": [],
   "source": [
    "# OpenCV example\n",
    "angle = 15\n",
    "rows, cols = img.shape[:2]\n",
    "rotation_matrix = cv2.getRotationMatrix2D((cols / 2, rows / 2), angle, 1)\n",
    "rotated_image = cv2.warpAffine(img, rotation_matrix, (cols, rows))\n",
    "\n",
    "# Create a figure placeholder\n",
    "fig = plt.figure(figsize=(12, 5))\n",
    "\n",
    "# show original image on a subplot\n",
    "plt.title(' image ')\n",
    "plt.set_cmap('gray')\n",
    "plt.imshow(rotated_image)"
   ]
  },
  {
   "cell_type": "code",
   "execution_count": null,
   "metadata": {},
   "outputs": [],
   "source": []
  }
 ],
 "metadata": {
  "kernelspec": {
   "display_name": "soi_dip",
   "language": "python",
   "name": "python3"
  },
  "language_info": {
   "codemirror_mode": {
    "name": "ipython",
    "version": 3
   },
   "file_extension": ".py",
   "mimetype": "text/x-python",
   "name": "python",
   "nbconvert_exporter": "python",
   "pygments_lexer": "ipython3",
   "version": "3.10.11"
  },
  "orig_nbformat": 4
 },
 "nbformat": 4,
 "nbformat_minor": 2
}
