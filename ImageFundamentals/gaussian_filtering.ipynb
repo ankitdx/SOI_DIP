{
 "cells": [
  {
   "cell_type": "markdown",
   "metadata": {},
   "source": [
    "\n",
    "In this program, we define two functions:\n",
    "\n",
    "create_gaussian_kernel(size, sigma): This function creates a Gaussian kernel of specified size and sigma. The kernel is created using the formula of the Gaussian distribution and is then normalized to ensure that the sum of all elements in the kernel is 1.\n",
    "\n",
    "apply_gaussian_blur(image, kernel): This function applies the Gaussian blur to the image using the cv2.filter2D() function. It takes the input image and the Gaussian kernel as arguments and returns the blurred image.\n",
    "\n",
    "In the main part of the program:\n",
    "1. we load an input image using cv2.imread() and then, \n",
    "2. create a Gaussian kernel using create_gaussian_kernel() with the desired kernel size and sigma. \n",
    "4. Finally, we apply the Gaussian blur to the image using apply_gaussian_blur() \n",
    "5. and display the original and blurred images using matplotlib"
   ]
  },
  {
   "cell_type": "code",
   "execution_count": null,
   "metadata": {},
   "outputs": [],
   "source": [
    "import cv2\n",
    "import numpy as np\n",
    "from matplotlib import pyplot as plt"
   ]
  },
  {
   "cell_type": "code",
   "execution_count": null,
   "metadata": {},
   "outputs": [],
   "source": [
    "\n",
    "def gaussian2d(x, y, sigma, size):\n",
    "    kernel = (1/(2*np.pi*sigma**2)) * \\\n",
    "            np.exp(\\\n",
    "            -((x-(size-1)/2)**2 + \\\n",
    "            (y-(size-1)/2)**2)/\\\n",
    "            (2*sigma**2))\n",
    "    return kernel\n",
    "\n",
    "def create_gaussian_kernel(size, sigma):\n",
    "    \"\"\"Create a Gaussian kernel\"\"\"\n",
    "    # numpy.fromfunction(function, shape, **kwargs)\n",
    "    kernel = np.fromfunction(lambda x, y: (1/(2*np.pi*sigma**2)) * \\\n",
    "                             np.exp(\\\n",
    "                                 -((x-(size-1)/2)**2 + \\\n",
    "                                   (y-(size-1)/2)**2)/\\\n",
    "                                    (2*sigma**2)), (size, size))\n",
    "    \n",
    "    kernel /= np.sum(kernel)\n",
    "    return kernel\n",
    "\n",
    "def apply_gaussian_blur(image, kernel):\n",
    "    \"\"\"Apply Gaussian blur to the image\"\"\"\n",
    "    blurred_image = cv2.filter2D(image, -1, kernel)\n",
    "    return blurred_image"
   ]
  },
  {
   "cell_type": "code",
   "execution_count": null,
   "metadata": {},
   "outputs": [],
   "source": [
    "# implementing the fromfunction()  function \n",
    "myarray = np.fromfunction(lambda x, y: x + y, (3, 3), dtype=int)\n",
    "print(myarray)"
   ]
  },
  {
   "cell_type": "code",
   "execution_count": null,
   "metadata": {},
   "outputs": [],
   "source": [
    "\n",
    "# Load the image\n",
    "image = cv2.imread('real_image.png', 0)"
   ]
  },
  {
   "cell_type": "code",
   "execution_count": null,
   "metadata": {},
   "outputs": [],
   "source": [
    "# Create a Gaussian kernel\n",
    "kernel_size = 51\n",
    "sigma = 25\n",
    "gaussian_kernel = create_gaussian_kernel(kernel_size, sigma)\n",
    "\n",
    "# Apply Gaussian blur to the image\n",
    "blurred_image = apply_gaussian_blur(image, gaussian_kernel)\n",
    "\n",
    "# Create a figure placeholder\n",
    "fig = plt.figure(figsize=(12, 5))\n",
    "\n",
    "# show original image on a subplot\n",
    "fig.add_subplot(131)\n",
    "plt.title(' image ')\n",
    "plt.set_cmap('gray')\n",
    "plt.imshow(image)\n",
    "\n",
    "fig.add_subplot(132)\n",
    "plt.title(' Filter ')\n",
    "plt.set_cmap('gray')\n",
    "plt.imshow(gaussian_kernel)\n",
    "\n",
    "fig.add_subplot(133)\n",
    "plt.title(' avg Image ')\n",
    "plt.set_cmap('gray')\n",
    "plt.imshow(blurred_image)\n"
   ]
  },
  {
   "cell_type": "code",
   "execution_count": null,
   "metadata": {},
   "outputs": [],
   "source": []
  }
 ],
 "metadata": {
  "kernelspec": {
   "display_name": "soi_dip",
   "language": "python",
   "name": "python3"
  },
  "language_info": {
   "codemirror_mode": {
    "name": "ipython",
    "version": 3
   },
   "file_extension": ".py",
   "mimetype": "text/x-python",
   "name": "python",
   "nbconvert_exporter": "python",
   "pygments_lexer": "ipython3",
   "version": "3.10.11"
  },
  "orig_nbformat": 4
 },
 "nbformat": 4,
 "nbformat_minor": 2
}
