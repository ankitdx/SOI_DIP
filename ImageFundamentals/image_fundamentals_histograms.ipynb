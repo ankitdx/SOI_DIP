{
 "cells": [
  {
   "cell_type": "markdown",
   "metadata": {},
   "source": [
    "# Image Histogram Computation\n",
    "To compute an image histogram, you can follow these steps:\n",
    "\n",
    "1. Load the image: Start by loading the image you want to compute the histogram for. You can use various programming libraries such as OpenCV, PIL, or scikit-image to load the image.\n",
    "\n",
    "2. Convert to grayscale: If your image is in color, you may want to convert it to grayscale before computing the histogram. This step simplifies the computation by considering the intensity values of each pixel rather than individual color channels.\n",
    "\n",
    "3. Initialize histogram bins: Determine the number of bins you want to use for the histogram. Typically, this is 256, representing the range of intensity values from 0 to 255.\n",
    "\n",
    "4. Calculate pixel frequencies: Iterate through each pixel in the image and count the frequency of each intensity value. You can accomplish this by incrementing the corresponding bin in the histogram for each pixel's intensity value.\n",
    "\n",
    "5. Visualize the histogram: You can choose to plot the histogram using a bar graph or display it in any other suitable visualization format. Many programming libraries provide functions for histogram plotting."
   ]
  },
  {
   "cell_type": "code",
   "execution_count": null,
   "metadata": {},
   "outputs": [],
   "source": [
    "# Import opencv for image operations and matplotlib for figures\n",
    "import cv2\n",
    "from matplotlib import pyplot as plt\n",
    "import numpy as np\n",
    "\n",
    "# Read Image\n",
    "img = cv2.imread(\"C:/Users/ajape/SOI_DIP/ImageFundamentals/multiple_blocks.png\")\n",
    "print(\"Number of Pixels in the image: \", img.shape[0] * img.shape[1])\n",
    "\n",
    "# Convert image into greyscale\n",
    "grey_img = cv2.cvtColor(img, cv2.COLOR_BGR2GRAY)"
   ]
  },
  {
   "cell_type": "code",
   "execution_count": null,
   "metadata": {},
   "outputs": [],
   "source": [
    "# define a function to compute and plot histogram\n",
    "def get_histogram(img, mask=None):   \n",
    "   # compute histogram\n",
    "   hist = cv2.calcHist(img, [0], mask, [256], [0, 256])\n",
    "\n",
    "   return hist"
   ]
  },
  {
   "cell_type": "code",
   "execution_count": null,
   "metadata": {},
   "outputs": [],
   "source": [
    "# Compute Histpgram\n",
    "hist = get_histogram(grey_img)\n",
    "\n",
    "# Create a figure placeholder\n",
    "fig = plt.figure(figsize=(12, 5))\n",
    "\n",
    "# show original image on a subplot\n",
    "fig.add_subplot(121)\n",
    "plt.title(' image ')\n",
    "plt.set_cmap('gray')\n",
    "plt.imshow(grey_img)\n",
    "\n",
    "# Set plot params and show histogram on another subplot\n",
    "fig.add_subplot(122)\n",
    "plt.title(\"Histogram of the Image\")\n",
    "plt.xlabel(\"Bins\")\n",
    "plt.ylabel(\"Number of Pixels\")\n",
    "plt.plot(hist, color=\"b\")\n",
    "plt.xlim([0, 256])\n",
    "\n",
    "# Show both the subplots\n",
    "plt.show()"
   ]
  },
  {
   "cell_type": "markdown",
   "metadata": {},
   "source": [
    "# Image Arithmetic"
   ]
  },
  {
   "cell_type": "markdown",
   "metadata": {},
   "source": [
    "## Image Addition"
   ]
  },
  {
   "cell_type": "code",
   "execution_count": null,
   "metadata": {},
   "outputs": [],
   "source": [
    "# Add an scalar to the image\n",
    "# image_add = cv2.add(grey_img, 25)\n",
    "# Create Float image\n",
    "float_im = grey_img.astype(\"float\")\n",
    "# Convert Image between 0 - 1 and add the scaler\n",
    "image_add =  float_im / 255.0 + 25 / 255.0\n",
    "# Now clip the image values higher than 1.0\n",
    "image_add = np.clip(image_add, 0.0, 1.0)\n",
    "# Scale image back to 0 - 255\n",
    "# Convert the image to uint8\n",
    "image_add = np.uint8(255 * image_add)\n",
    "# Compute histogram\n",
    "hist_ = get_histogram(image_add)\n",
    "\n",
    "# Create a figure placeholder\n",
    "fig = plt.figure(figsize=(18, 5))\n",
    "\n",
    "# show original image on a subplot\n",
    "fig.add_subplot(131)\n",
    "plt.title(' image ')\n",
    "plt.set_cmap('gray')\n",
    "plt.imshow(grey_img)\n",
    "\n",
    "# show added image on a subplot\n",
    "fig.add_subplot(132)\n",
    "plt.title(' Added Image ')\n",
    "plt.set_cmap('gray')\n",
    "plt.imshow(image_add)\n",
    "\n",
    "# Set plot params and show histogram on another subplot\n",
    "fig.add_subplot(133)\n",
    "plt.title(\"Histogram of the Image\")\n",
    "plt.xlabel(\"Bins\")\n",
    "plt.ylabel(\"Number of Pixels\")\n",
    "plt.plot(hist, color=\"b\")\n",
    "plt.plot(hist_, color=\"r\")\n",
    "plt.xlim([0, 256])\n",
    "\n",
    "# Show both the subplots\n",
    "plt.show()\n",
    "\n"
   ]
  },
  {
   "cell_type": "markdown",
   "metadata": {},
   "source": [
    "## Image Subtraction"
   ]
  },
  {
   "cell_type": "code",
   "execution_count": null,
   "metadata": {},
   "outputs": [],
   "source": [
    "# Subtract an scalar to the image\n",
    "image_sub = cv2.subtract(grey_img, 25)\n",
    "\n",
    "# Compute histogram\n",
    "hist_ = get_histogram(image_sub)\n",
    "\n",
    "# Create a figure placeholder\n",
    "fig = plt.figure(figsize=(18, 5))\n",
    "\n",
    "# show original image on a subplot\n",
    "fig.add_subplot(131)\n",
    "plt.title(' image ')\n",
    "plt.set_cmap('gray')\n",
    "plt.imshow(grey_img)\n",
    "\n",
    "# show added image on a subplot\n",
    "fig.add_subplot(132)\n",
    "plt.title(' Subtracted Image ')\n",
    "plt.set_cmap('gray')\n",
    "plt.imshow(image_sub)\n",
    "\n",
    "# Set plot params and show histogram on another subplot\n",
    "fig.add_subplot(133)\n",
    "plt.title(\"Histogram of the Image\")\n",
    "plt.xlabel(\"Bins\")\n",
    "plt.ylabel(\"Number of Pixels\")\n",
    "plt.plot(hist, color=\"b\")\n",
    "plt.plot(hist_, color=\"r\")\n",
    "plt.xlim([0, 256])\n",
    "\n",
    "# Show both the subplots\n",
    "plt.show()\n"
   ]
  },
  {
   "cell_type": "markdown",
   "metadata": {},
   "source": [
    "## Image Multiplication"
   ]
  },
  {
   "cell_type": "code",
   "execution_count": null,
   "metadata": {},
   "outputs": [],
   "source": [
    "# Subtract an scalar to the image\n",
    "image_mul = cv2.multiply(grey_img, 2)\n",
    "\n",
    "# Compute histogram\n",
    "hist_ = get_histogram(image_mul)\n",
    "\n",
    "# Create a figure placeholder\n",
    "fig = plt.figure(figsize=(18, 5))\n",
    "\n",
    "# show original image on a subplot\n",
    "fig.add_subplot(131)\n",
    "plt.title(' image ')\n",
    "plt.set_cmap('gray')\n",
    "plt.imshow(grey_img)\n",
    "\n",
    "# show added image on a subplot\n",
    "fig.add_subplot(132)\n",
    "plt.title(' Multiplied Image ')\n",
    "plt.set_cmap('gray')\n",
    "plt.imshow(image_sub)\n",
    "\n",
    "# Set plot params and show histogram on another subplot\n",
    "fig.add_subplot(133)\n",
    "plt.title(\"Histogram of the Image\")\n",
    "plt.xlabel(\"Bins\")\n",
    "plt.ylabel(\"Number of Pixels\")\n",
    "plt.plot(hist, color=\"b\")\n",
    "plt.plot(hist_, color=\"r\")\n",
    "plt.xlim([0, 256])\n",
    "\n",
    "# Show both the subplots\n",
    "plt.show()\n"
   ]
  },
  {
   "cell_type": "code",
   "execution_count": null,
   "metadata": {},
   "outputs": [],
   "source": []
  },
  {
   "cell_type": "code",
   "execution_count": null,
   "metadata": {},
   "outputs": [],
   "source": []
  }
 ],
 "metadata": {
  "kernelspec": {
   "display_name": "soi_dip",
   "language": "python",
   "name": "python3"
  },
  "language_info": {
   "codemirror_mode": {
    "name": "ipython",
    "version": 3
   },
   "file_extension": ".py",
   "mimetype": "text/x-python",
   "name": "python",
   "nbconvert_exporter": "python",
   "pygments_lexer": "ipython3",
   "version": "3.10.11"
  },
  "orig_nbformat": 4
 },
 "nbformat": 4,
 "nbformat_minor": 2
}
