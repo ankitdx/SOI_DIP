{
 "cells": [
  {
   "cell_type": "markdown",
   "metadata": {},
   "source": [
    "1. Initialization: Data points are provided, and we initialize 𝑘=3 centroids (initial_centroids).\n",
    "2. Distance Calculation: For each point, calculate its absolute distance from all centroids.\n",
    "3. Cluster Assignment: Assign points to the nearest centroid.\n",
    "4. Centroid Update: Compute the mean of points in each cluster as the new centroid.\n",
    "5. Visualization: Each iteration plots the current state of clusters and centroids.\n",
    "6. Convergence: Iterations stop when centroids no longer change."
   ]
  },
  {
   "cell_type": "code",
   "execution_count": null,
   "metadata": {},
   "outputs": [],
   "source": [
    "import matplotlib.pyplot as plt\n",
    "import numpy as np"
   ]
  },
  {
   "cell_type": "code",
   "execution_count": null,
   "metadata": {},
   "outputs": [],
   "source": [
    "# Step 1: Initialize data points and centroids\n",
    "data = data = np.sort(np.random.randint(0, 5000, 500))\n",
    "data_mean = sum(data) / len(data)\n",
    "initial_centroids = [data_mean - 100, data_mean, data_mean + 100]  # Initial centroids"
   ]
  },
  {
   "cell_type": "code",
   "execution_count": null,
   "metadata": {},
   "outputs": [],
   "source": [
    "def calculate_distance(point, centroids):\n",
    "    return [abs(point - c) for c in centroids]"
   ]
  },
  {
   "cell_type": "code",
   "execution_count": null,
   "metadata": {},
   "outputs": [],
   "source": [
    "def assign_clusters(data, centroids):\n",
    "    clusters = {i: [] for i in range(len(centroids))}\n",
    "    for point in data:\n",
    "        distances = calculate_distance(point, centroids)\n",
    "        cluster_index = distances.index(min(distances))  # Nearest centroid\n",
    "        clusters[cluster_index].append(point)\n",
    "    return clusters"
   ]
  },
  {
   "cell_type": "code",
   "execution_count": null,
   "metadata": {},
   "outputs": [],
   "source": [
    "def update_centroids(clusters):\n",
    "    return [sum(points) / len(points) if points else 0 for points in clusters.values()]"
   ]
  },
  {
   "cell_type": "code",
   "execution_count": null,
   "metadata": {},
   "outputs": [],
   "source": [
    "# Visualization function\n",
    "def visualize_iteration(data, centroids, clusters, iteration):\n",
    "    colors = ['red', 'blue', 'green']  # Different colors for clusters\n",
    "    plt.figure(figsize=(10, 6))\n",
    "    \n",
    "    # Plot data points\n",
    "    for cluster_idx, points in clusters.items():\n",
    "        plt.scatter(points, [0] * len(points), color=colors[cluster_idx], label=f\"Cluster {cluster_idx + 1}\")\n",
    "    \n",
    "    # Plot centroids\n",
    "    plt.scatter(centroids, [0] * len(centroids), color='black', marker='x', s=200, label='Centroids')\n",
    "    \n",
    "    # plt.title(f\"Iteration {iteration}\")\n",
    "    # plt.xlabel(\"Data Points\")\n",
    "    # plt.yticks([])  # Hide y-axis for clarity\n",
    "    # plt.legend()\n",
    "    plt.imshow(im)\n",
    "    plt.show()"
   ]
  },
  {
   "cell_type": "code",
   "execution_count": null,
   "metadata": {},
   "outputs": [],
   "source": [
    "# K-means iterations with visualization\n",
    "centroids = initial_centroids[:]\n",
    "for iteration in range(1, 10):  # Arbitrary max iterations\n",
    "    clusters = assign_clusters(data, centroids)\n",
    "    new_centroids = update_centroids(clusters)\n",
    "    \n",
    "    # Visualize the current iteration\n",
    "    visualize_iteration(data, centroids, clusters, iteration)\n",
    "    \n",
    "    # Check for convergence\n",
    "    if centroids == new_centroids:\n",
    "        print(f\"Converged after {iteration} iterations!\")\n",
    "        break\n",
    "    centroids = new_centroids\n",
    "\n",
    "# Final output\n",
    "print(\"Final Clusters:\", clusters)\n",
    "print(\"Final Centroids:\", centroids)\n"
   ]
  },
  {
   "cell_type": "code",
   "execution_count": null,
   "metadata": {},
   "outputs": [],
   "source": []
  }
 ],
 "metadata": {
  "kernelspec": {
   "display_name": "soi_dip",
   "language": "python",
   "name": "python3"
  },
  "language_info": {
   "codemirror_mode": {
    "name": "ipython",
    "version": 3
   },
   "file_extension": ".py",
   "mimetype": "text/x-python",
   "name": "python",
   "nbconvert_exporter": "python",
   "pygments_lexer": "ipython3",
   "version": "3.10.11"
  }
 },
 "nbformat": 4,
 "nbformat_minor": 2
}
