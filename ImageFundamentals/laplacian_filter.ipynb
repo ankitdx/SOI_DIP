{
 "cells": [
  {
   "cell_type": "markdown",
   "metadata": {},
   "source": [
    "# Laplacian Filtering\n",
    "\n",
    "\n",
    "In this example, we first load the image and convert it to grayscale for simplicity. Then, we apply Gaussian smoothing using cv2.GaussianBlur() to reduce noise. Next, we apply the Laplacian filter using cv2.Laplacian(). Finally, we convert the result back to the uint8 data type using cv2.convertScaleAbs() and display the original and Laplacian-filtered images using cv2.imshow().\n",
    "\n",
    "The resulting image will highlight the edges and rapid intensity changes in the original image. Adjusting the size of the Gaussian kernel or the parameters of the Laplacian filter can modify the intensity and extent of the detected edges.\n",
    "\n",
    "1. Load the image\n",
    "2. Apply Gaussian blur to reduce the image noise\n",
    "3. apply laplacian filter to the image.\n",
    "4. Normalize the image to show at the output.\n",
    "5. Use non Normalized image to sharp the input image"
   ]
  },
  {
   "cell_type": "code",
   "execution_count": null,
   "metadata": {},
   "outputs": [],
   "source": [
    "import cv2\n",
    "import numpy as np\n",
    "from matplotlib import pyplot as plt\n",
    "\n",
    "# Load the <link>image</link>\n",
    "image = cv2.imread('real_image.png', 0)  # Read as grayscale\n",
    "\n",
    "# Apply <link>Gaussian smoothing</link>\n",
    "image_smooth = cv2.GaussianBlur(image, (7, 7), 2.5)\n",
    "\n",
    "# Apply <link>Laplacian filter</link>\n",
    "laplacian = cv2.Laplacian(image_smooth, cv2.CV_64F)\n",
    "\n",
    "# Convert back to uint8 and normalize the result\n",
    "laplacian_norm = cv2.convertScaleAbs(laplacian)\n",
    "\n",
    "# Display the original and <link>Laplacian-filtered images</link>\n",
    "# Create a figure placeholder\n",
    "fig = plt.figure(figsize=(12, 5))\n",
    "\n",
    "# show original image on a subplot\n",
    "fig.add_subplot(121)\n",
    "plt.title(' image ')\n",
    "plt.set_cmap('gray')\n",
    "plt.imshow(image)\n",
    "\n",
    "fig.add_subplot(122)\n",
    "plt.title(' laplacian Image ')\n",
    "plt.set_cmap('gray')\n",
    "plt.imshow(laplacian_norm)\n",
    "\n",
    "\n"
   ]
  },
  {
   "cell_type": "code",
   "execution_count": null,
   "metadata": {},
   "outputs": [],
   "source": [
    "# Sharp the image\n",
    "image_sharpen = image - 2.5*laplacian\n",
    "# Display the original and <link>Laplacian-filtered images</link>\n",
    "# Create a figure placeholder\n",
    "fig = plt.figure(figsize=(12, 5))\n",
    "\n",
    "# show original image on a subplot\n",
    "fig.add_subplot(121)\n",
    "plt.title(' image ')\n",
    "plt.set_cmap('gray')\n",
    "plt.imshow(image)\n",
    "\n",
    "fig.add_subplot(122)\n",
    "plt.title(' Sharpen Image ')\n",
    "plt.set_cmap('gray')\n",
    "plt.imshow(image_sharpen)"
   ]
  },
  {
   "cell_type": "code",
   "execution_count": null,
   "metadata": {},
   "outputs": [],
   "source": []
  }
 ],
 "metadata": {
  "kernelspec": {
   "display_name": "soi_dip",
   "language": "python",
   "name": "python3"
  },
  "language_info": {
   "codemirror_mode": {
    "name": "ipython",
    "version": 3
   },
   "file_extension": ".py",
   "mimetype": "text/x-python",
   "name": "python",
   "nbconvert_exporter": "python",
   "pygments_lexer": "ipython3",
   "version": "3.10.11"
  },
  "orig_nbformat": 4
 },
 "nbformat": 4,
 "nbformat_minor": 2
}
