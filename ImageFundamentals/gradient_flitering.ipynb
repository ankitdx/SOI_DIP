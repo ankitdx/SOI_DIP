{
 "cells": [
  {
   "cell_type": "markdown",
   "metadata": {},
   "source": [
    "In this program, we use the OpenCV library (cv2) to perform edge detection using Sobel masks.\n",
    "\n",
    "The edge_detection_sobel() function takes an input image and performs the following steps:\n",
    "\n",
    "1. Convert the image to grayscale using cv2.cvtColor().\n",
    "2. Apply Gaussian blur to reduce noise using cv2.GaussianBlur().\n",
    "3. Apply the Sobel filters using cv2.Sobel(). We compute the gradients in the x and y directions separately.\n",
    "4. Compute the gradient magnitude using np.sqrt() and the gradient direction using np.arctan2().\n",
    "5. Normalize the gradient magnitude using cv2.normalize() to scale the values between 0 and 255.\n",
    "6. Threshold the gradient magnitude using cv2.threshold() to obtain the edges.\n",
    "7. Return the resulting edge-detected image.\n",
    "\n",
    "In the main part of the program, we load the input image using cv2.imread() and call the edge_detection_sobel() function to obtain the edge-detected image. Finally, we display the original and edge-detected images using cv2.imshow() and wait for a key press to close the windows.\n",
    "\n",
    "Note: Make sure you have the OpenCV (opencv-python) library installed in your Python environment before running this code. You can install it using pip install opencv-python."
   ]
  },
  {
   "cell_type": "code",
   "execution_count": null,
   "metadata": {},
   "outputs": [],
   "source": [
    "import numpy as np\n",
    "import cv2\n",
    "from matplotlib import pyplot as plt\n",
    "\n",
    "def edge_detection_sobel(image):\n",
    "    # Convert the image to grayscale\n",
    "    gray = cv2.cvtColor(image, cv2.COLOR_BGR2GRAY)\n",
    "    \n",
    "    # Apply Gaussian blur to reduce noise\n",
    "    blurred = cv2.GaussianBlur(gray, (3, 3), 0)\n",
    "    \n",
    "    # Apply Sobel filters\n",
    "    sobel_x = cv2.Sobel(blurred, cv2.CV_64F, 1, 0, ksize=3)\n",
    "    sobel_y = cv2.Sobel(blurred, cv2.CV_64F, 0, 1, ksize=3)\n",
    "    \n",
    "    # Compute the gradient magnitude and direction\n",
    "    gradient_magnitude = np.sqrt(sobel_x**2 + sobel_y**2)\n",
    "    gradient_direction = np.arctan2(sobel_y, sobel_x)\n",
    "    \n",
    "    # Normalize the gradient magnitude\n",
    "    gradient_magnitude = cv2.normalize(gradient_magnitude, None, 0, 255, cv2.NORM_MINMAX, cv2.CV_8U)\n",
    "    \n",
    "    # Threshold the gradient magnitude to obtain edges\n",
    "    _, edges = cv2.threshold(gradient_magnitude, 50, 255, cv2.THRESH_BINARY)\n",
    "    \n",
    "    return sobel_x, sobel_y, gradient_magnitude, gradient_direction, edges"
   ]
  },
  {
   "cell_type": "code",
   "execution_count": null,
   "metadata": {},
   "outputs": [],
   "source": [
    "# Load the image\n",
    "image = cv2.imread('real_image.png')\n",
    "\n",
    "# Perform edge detection using Sobel masks\n",
    "sobel_x, sobel_y, gradient_magnitude, gradient_direction, edges = edge_detection_sobel(image)\n",
    "\n",
    "# Create a figure placeholder\n",
    "fig = plt.figure(figsize=(12, 5))\n",
    "\n",
    "# show original image on a subplot\n",
    "fig.add_subplot(141)\n",
    "plt.title(' image ')\n",
    "plt.set_cmap('gray')\n",
    "plt.imshow(image)\n",
    "\n",
    "fig.add_subplot(142)\n",
    "plt.title(' Vertical Edges ')\n",
    "plt.set_cmap('gray')\n",
    "plt.imshow(sobel_x)\n",
    "\n",
    "fig.add_subplot(143)\n",
    "plt.title(' Horizontal Edges ')\n",
    "plt.set_cmap('gray')\n",
    "plt.imshow(sobel_y)\n",
    "\n",
    "fig.add_subplot(144)\n",
    "plt.title(' Magnitude ')\n",
    "plt.set_cmap('gray')\n",
    "plt.imshow(gradient_magnitude)"
   ]
  },
  {
   "cell_type": "code",
   "execution_count": null,
   "metadata": {},
   "outputs": [],
   "source": [
    "fig = plt.figure(figsize=(12, 5))\n",
    "fig.add_subplot(111)\n",
    "plt.title(' Magnitude ')\n",
    "plt.set_cmap('gray')\n",
    "plt.imshow(gradient_magnitude)\n",
    "\n",
    "# fig = plt.figure(figsize=(12, 5))\n",
    "\n",
    "# # show original image on a subplot\n",
    "# # fig.add_subplot(141)\n",
    "# plt.title(' image ')\n",
    "# plt.set_cmap('gray')\n",
    "# plt.imshow(gradient_direction)"
   ]
  },
  {
   "cell_type": "code",
   "execution_count": null,
   "metadata": {},
   "outputs": [],
   "source": []
  }
 ],
 "metadata": {
  "kernelspec": {
   "display_name": "soi_dip",
   "language": "python",
   "name": "python3"
  },
  "language_info": {
   "codemirror_mode": {
    "name": "ipython",
    "version": 3
   },
   "file_extension": ".py",
   "mimetype": "text/x-python",
   "name": "python",
   "nbconvert_exporter": "python",
   "pygments_lexer": "ipython3",
   "version": "3.10.11"
  },
  "orig_nbformat": 4
 },
 "nbformat": 4,
 "nbformat_minor": 2
}
